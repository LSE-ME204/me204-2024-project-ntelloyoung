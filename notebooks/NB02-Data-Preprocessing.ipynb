{
 "cells": [
  {
   "cell_type": "code",
   "execution_count": 1,
   "metadata": {},
   "outputs": [],
   "source": [
    "import numpy as np\n",
    "\n",
    "import pandas as pd\n",
    "\n"
   ]
  },
  {
   "cell_type": "code",
   "execution_count": 2,
   "metadata": {},
   "outputs": [],
   "source": [
    "# Loading in all the data frames\n",
    "all_games = pd.read_csv('../data/raw data/all_games.csv')\n",
    "genre_info = pd.read_csv('../data/raw data/genre_info.csv')\n",
    "score_info = pd.read_csv('../data/raw data/score_info.csv')\n",
    "release_info = pd.read_csv('../data/raw data/release_info.csv')"
   ]
  },
  {
   "cell_type": "markdown",
   "metadata": {},
   "source": [
    "### Cleaning up all_games"
   ]
  },
  {
   "cell_type": "code",
   "execution_count": 3,
   "metadata": {},
   "outputs": [],
   "source": [
    "# Clean up the title column\n",
    "\n",
    "# Some names have ' in them so they surrounded with \" \", the ones without ' in them are surrounded with ' '. The following code lets keep ' in the titles that have them while removing the extra characters\n",
    "all_games['title'] = all_games['title'].str.replace('[\"','').str.replace('\"]','').str.replace(\"['\",'').str.replace(\"']\",'')"
   ]
  },
  {
   "cell_type": "code",
   "execution_count": 4,
   "metadata": {},
   "outputs": [],
   "source": [
    "# Clean up the link column\n",
    "\n",
    "all_games['link'] = all_games['link'].str.replace(\"['\",'').str.replace(\"']\",'')"
   ]
  },
  {
   "cell_type": "code",
   "execution_count": 5,
   "metadata": {},
   "outputs": [],
   "source": [
    "# Save clean data\n",
    "all_games.to_csv('../data/clean data/all_games_clean.csv', index=False)"
   ]
  },
  {
   "cell_type": "markdown",
   "metadata": {},
   "source": [
    "### Cleaning up genre_info "
   ]
  },
  {
   "cell_type": "code",
   "execution_count": 6,
   "metadata": {},
   "outputs": [],
   "source": [
    "# From 'genre_info', only keep 'Genre', 'Perspective', 'Gameplay', 'Misc', and 'Title' columns since they have sufficient entriesn to analyze\n",
    "genre_info = genre_info[['Genre', 'Perspective', 'Gameplay', 'Misc', 'title']]\n",
    "\n",
    "# Clean up the 'genre' column\n",
    "genre_info['Genre'] = genre_info['Genre'].str.replace(\"'\",'').str.replace(\"'\",'').str.replace(\"[\",'').str.replace(\"]\",'')\n",
    "\n"
   ]
  },
  {
   "cell_type": "code",
   "execution_count": 7,
   "metadata": {},
   "outputs": [],
   "source": [
    "# Clean up the 'Perspective' column\n",
    "genre_info['Perspective'] = genre_info['Perspective'].str.replace(\"['\",'').str.replace(\"']\",'').str.replace(\"'\",'')\n"
   ]
  },
  {
   "cell_type": "code",
   "execution_count": 8,
   "metadata": {},
   "outputs": [],
   "source": [
    "# Clean up the 'Gameplay' column\n",
    "genre_info['Gameplay'] = genre_info['Gameplay'].str.replace(\"['\",'').str.replace(\"']\",'').str.replace(\"'\",'')"
   ]
  },
  {
   "cell_type": "code",
   "execution_count": 9,
   "metadata": {},
   "outputs": [],
   "source": [
    "# Clean up the 'Misc' column\n",
    "genre_info['Misc'] = genre_info['Misc'].str.replace(\"['\",'').str.replace(\"']\",'')"
   ]
  },
  {
   "cell_type": "code",
   "execution_count": 10,
   "metadata": {},
   "outputs": [],
   "source": [
    "# Clean up the 'Title' column\n",
    "genre_info['title'] = genre_info['title'].str.replace('[\"','').str.replace('\"]','').str.replace(\"['\",'').str.replace(\"']\",'')\n"
   ]
  },
  {
   "cell_type": "code",
   "execution_count": 11,
   "metadata": {},
   "outputs": [],
   "source": [
    "# Save clean data\n",
    "genre_info.to_csv('../data/clean data/genre_info_clean.csv', index=False)"
   ]
  },
  {
   "cell_type": "markdown",
   "metadata": {},
   "source": [
    "### Cleaning up score_info "
   ]
  },
  {
   "cell_type": "code",
   "execution_count": 12,
   "metadata": {},
   "outputs": [],
   "source": [
    "# Clean up the 'moby_score' column\n",
    "score_info['moby_score'] = score_info['moby_score'].str.strip()\n",
    "# In the 'moby_score' column there are some values that are not numbers, we will remove them with NaN\n",
    "score_info['moby_score'] = pd.to_numeric(score_info['moby_score'], errors='coerce')"
   ]
  },
  {
   "cell_type": "code",
   "execution_count": 13,
   "metadata": {},
   "outputs": [],
   "source": [
    "# Clean up the 'critics_score' column\n",
    "score_info['critics_score'] = score_info['critics_score'].str.strip().str.replace('%', '')\n",
    "\n",
    "# Some entries have refer to the amount of players who cllected the game, whcis it not wanted\n",
    "# Turn entries that have the word 'players' to a NaN vlaues\n",
    "score_info['critics_score'] = score_info['critics_score'].apply(\n",
    "    lambda x: np.nan if isinstance(x, str) and 'players' in x else x\n",
    ")"
   ]
  },
  {
   "cell_type": "code",
   "execution_count": 14,
   "metadata": {},
   "outputs": [],
   "source": [
    "# Clean up the 'player_score' column\n",
    "score_info['player_score'] = score_info['player_score'].str.replace('stars', '')\n"
   ]
  },
  {
   "cell_type": "code",
   "execution_count": 15,
   "metadata": {},
   "outputs": [],
   "source": [
    "# Clean up the 'xbox_score' column\n",
    "score_info['xbox_score'] = score_info['xbox_score'].str.replace('#', '')"
   ]
  },
  {
   "cell_type": "code",
   "execution_count": 16,
   "metadata": {},
   "outputs": [],
   "source": [
    "# Create an average score column to get a general idea of the performance of the each game\n",
    "\n",
    "# Turn each score column into a numeric type\n",
    "score_info['critics_score'] = pd.to_numeric(score_info['critics_score'], errors='coerce')\n",
    "score_info['player_score'] = pd.to_numeric(score_info['player_score'], errors='coerce')\n",
    "score_info['moby_score'] = pd.to_numeric(score_info['moby_score'], errors='coerce')\n",
    "\n",
    "# Player score is ranked out of 5, so we will multiply it by 2 to get a score out of 100\n",
    "score_info['player_score'] = score_info['player_score'] * 20\n",
    "\n",
    "# Moby_score is out of 10, so we will multiply it by 10\n",
    "score_info['moby_score'] = score_info['moby_score'] * 10\n",
    "\n",
    "# Create a new column that is the average of all the scores\n",
    "score_info['average_score'] = round(score_info[['critics_score', 'player_score', 'moby_score']].mean(axis=1),2)\n"
   ]
  },
  {
   "cell_type": "code",
   "execution_count": 17,
   "metadata": {},
   "outputs": [],
   "source": [
    "# Save clean data\n",
    "score_info.to_csv('../data/clean data/score_info_clean.csv', index=False)"
   ]
  },
  {
   "cell_type": "markdown",
   "metadata": {},
   "source": [
    "### Cleaning up release_info "
   ]
  },
  {
   "cell_type": "code",
   "execution_count": 18,
   "metadata": {},
   "outputs": [],
   "source": [
    "# Remove 'people' from the 'credits' column\n",
    "release_info['credits'] = release_info['credits'].str.replace('people','')\n",
    "\n",
    "# Turn 'Contribute' in the 'cerdits' column in NaN values\n",
    "release_info['credits'] = release_info['credits'].replace('Contribute', np.nan)"
   ]
  },
  {
   "cell_type": "code",
   "execution_count": 19,
   "metadata": {},
   "outputs": [],
   "source": [
    "# Convert the 'xbox_release_date' column to string type\n",
    "release_info['xbox_release_date'] = release_info['xbox_release_date'].astype(str)\n",
    "\n",
    "# Remove the .0 at the end of each date\n",
    "release_info['xbox_release_date'] = release_info['xbox_release_date'].str.replace('.0', '')\n",
    "\n",
    "# Turn 'nan' back into NaN values\n",
    "release_info['xbox_release_date'] = release_info['xbox_release_date'].replace('nan', np.nan)\n",
    "\n",
    "# Turn release date into an int type\n",
    "release_info['xbox_release_date'] = release_info['xbox_release_date'].astype(float).astype('Int64')\n"
   ]
  },
  {
   "cell_type": "code",
   "execution_count": 20,
   "metadata": {},
   "outputs": [],
   "source": [
    "# Clean the 'publishers' column\n",
    "release_info['publishers'] = release_info['publishers'].str.replace(\"[\",'').str.replace(\"]\",'')"
   ]
  },
  {
   "cell_type": "code",
   "execution_count": 21,
   "metadata": {},
   "outputs": [],
   "source": [
    "# Clean the 'developers' column\n",
    "release_info['developers'] = release_info['developers'].str.replace(\"[\",'').str.replace(\"]\",'')"
   ]
  },
  {
   "cell_type": "code",
   "execution_count": 22,
   "metadata": {},
   "outputs": [],
   "source": [
    "# Removing the word 'person' from the credits column\n",
    "release_info['credits'] = release_info['credits'].apply(\n",
    "    lambda x: np.nan if isinstance(x, str) and 'person' in x else x\n",
    ")\n",
    "\n",
    "# Remove and ','s that might be in the credits column\n",
    "release_info['credits'] = release_info['credits'].str.replace(',', '')\n",
    "\n",
    "# Turing credits into a float\n",
    "release_info['credits'] = release_info['credits'].apply(\n",
    "    lambda x: np.nan if isinstance(x, str) and 'k' in x else x\n",
    ")"
   ]
  },
  {
   "cell_type": "code",
   "execution_count": 23,
   "metadata": {},
   "outputs": [],
   "source": [
    "# Turning the credits column into an integer and ommit NaN values\n",
    "release_info['credits'] = release_info['credits'].dropna().astype(int)"
   ]
  },
  {
   "cell_type": "code",
   "execution_count": 24,
   "metadata": {},
   "outputs": [],
   "source": [
    "# Save clean data\n",
    "release_info.to_csv('../data/clean data/release_info_clean.csv', index=False)"
   ]
  }
 ],
 "metadata": {
  "kernelspec": {
   "display_name": ".venv",
   "language": "python",
   "name": "python3"
  },
  "language_info": {
   "codemirror_mode": {
    "name": "ipython",
    "version": 3
   },
   "file_extension": ".py",
   "mimetype": "text/x-python",
   "name": "python",
   "nbconvert_exporter": "python",
   "pygments_lexer": "ipython3",
   "version": "3.9.6"
  }
 },
 "nbformat": 4,
 "nbformat_minor": 2
}
