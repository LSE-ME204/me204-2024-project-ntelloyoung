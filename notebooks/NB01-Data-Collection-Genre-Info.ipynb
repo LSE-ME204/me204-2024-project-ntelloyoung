{
 "cells": [
  {
   "cell_type": "code",
   "execution_count": 6,
   "metadata": {},
   "outputs": [],
   "source": [
    "from scrapy import Selector\n",
    "\n",
    "import requests\n",
    "\n",
    "import pandas as pd\n",
    "\n",
    "from tqdm.notebook import tqdm\n",
    "\n",
    "tqdm.pandas()"
   ]
  },
  {
   "cell_type": "code",
   "execution_count": 7,
   "metadata": {},
   "outputs": [],
   "source": [
    "# Loads dataframe which contains all games\n",
    "all_games = pd.read_csv('../data/raw data/all_games.csv')"
   ]
  },
  {
   "cell_type": "code",
   "execution_count": 8,
   "metadata": {},
   "outputs": [],
   "source": [
    "# Remove the ', [, and ] characters from the 'link' column in 'all_games.csv' so that scrapy can access the links\n",
    "all_games['link'] = all_games['link'].str.replace('[', '')\n",
    "all_games['link'] = all_games['link'].str.replace(']', '')\n",
    "all_games['link'] = all_games['link'].str.replace(\"'\", '')\n"
   ]
  },
  {
   "cell_type": "code",
   "execution_count": 9,
   "metadata": {},
   "outputs": [],
   "source": [
    "# Function to scrape the genre information of a game\n",
    "def get_genre_info(link):\n",
    "    response = requests.get(link)\n",
    "\n",
    "    sel = Selector(text = response.text)\n",
    "\n",
    "    containers = sel.css('div.info-genres')\n",
    "\n",
    "    titles = containers.css('dl dt::text').getall()\n",
    "\n",
    "    values = containers.css('dl dd')\n",
    "\n",
    "    values = [values.css('a::text').getall() for values in values]\n",
    "\n",
    "    genre = dict(zip(titles, values))\n",
    "\n",
    "    return pd.Series(genre).to_frame().T"
   ]
  },
  {
   "cell_type": "code",
   "execution_count": 10,
   "metadata": {},
   "outputs": [
    {
     "data": {
      "application/vnd.jupyter.widget-view+json": {
       "model_id": "0f330fe7fdf541d1b3aa1467fc77cb69",
       "version_major": 2,
       "version_minor": 0
      },
      "text/plain": [
       "  0%|          | 0/1017 [00:00<?, ?it/s]"
      ]
     },
     "metadata": {},
     "output_type": "display_data"
    }
   ],
   "source": [
    "# Applies the function to all the games in the dataframe\n",
    "genre_series = all_games['link'].progress_apply(get_genre_info)"
   ]
  },
  {
   "cell_type": "code",
   "execution_count": 11,
   "metadata": {},
   "outputs": [],
   "source": [
    "# Turn the series into a dataframe\n",
    "genre_info = pd.concat(genre_series.tolist(), ignore_index = True)\n"
   ]
  },
  {
   "cell_type": "code",
   "execution_count": 12,
   "metadata": {},
   "outputs": [],
   "source": [
    "# Add titles to the dataframe so we have a common key in each dataframe\n",
    "genre_info['title'] = all_games['title']"
   ]
  },
  {
   "cell_type": "code",
   "execution_count": 13,
   "metadata": {},
   "outputs": [],
   "source": [
    "# Save the dataframe to a csv file\n",
    "genre_info.to_csv('../data/raw data/genre_info.csv', index = False)"
   ]
  }
 ],
 "metadata": {
  "kernelspec": {
   "display_name": ".venv",
   "language": "python",
   "name": "python3"
  },
  "language_info": {
   "codemirror_mode": {
    "name": "ipython",
    "version": 3
   },
   "file_extension": ".py",
   "mimetype": "text/x-python",
   "name": "python",
   "nbconvert_exporter": "python",
   "pygments_lexer": "ipython3",
   "version": "3.9.6"
  }
 },
 "nbformat": 4,
 "nbformat_minor": 2
}
