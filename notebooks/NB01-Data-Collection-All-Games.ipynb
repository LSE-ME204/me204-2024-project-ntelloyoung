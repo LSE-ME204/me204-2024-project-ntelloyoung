{
 "cells": [
  {
   "cell_type": "code",
   "execution_count": 22,
   "metadata": {},
   "outputs": [],
   "source": [
    "from selenium import webdriver\n",
    "import time\n",
    "import pandas as pd\n",
    "from scrapy import Selector\n",
    "from random import randint\n",
    "import json\n",
    "\n"
   ]
  },
  {
   "cell_type": "code",
   "execution_count": 23,
   "metadata": {},
   "outputs": [],
   "source": [
    "# Set the path to the credentials file\n",
    "credentials_file_path = \"../credentials.json\"\n",
    "\n",
    "# Open the file and load the data into a variable\n",
    "with open(credentials_file_path, \"r\") as f:\n",
    "    credentials = json.load(f)"
   ]
  },
  {
   "cell_type": "code",
   "execution_count": 24,
   "metadata": {},
   "outputs": [],
   "source": [
    "# Get the username and password from the credentials\n",
    "username = credentials['username']\n",
    "password = credentials['password']\n"
   ]
  },
  {
   "cell_type": "code",
   "execution_count": 25,
   "metadata": {},
   "outputs": [],
   "source": [
    "# Sets up the driver\n",
    "driver = webdriver.Chrome()\n",
    "\n",
    "# Opens the login page\n",
    "url = 'https://www.mobygames.com/user/login/'\n",
    "driver.get(url)"
   ]
  },
  {
   "cell_type": "code",
   "execution_count": 26,
   "metadata": {},
   "outputs": [],
   "source": [
    "# Inputs the username and password to login\n",
    "driver.find_element('id', 'login').send_keys(username)\n",
    "driver.find_element('id', 'password').send_keys(password)\n",
    "driver.find_element('css selector', '#main > form > p > button').click() # I am using the full css selector beacuse the only attribute of the button is 'class' and class is not a valid locator"
   ]
  },
  {
   "cell_type": "code",
   "execution_count": 27,
   "metadata": {},
   "outputs": [],
   "source": [
    "# Go to first page that we scrape\n",
    "url ='https://www.mobygames.com/platform/xbox/'\n",
    "driver.get(url)"
   ]
  },
  {
   "cell_type": "code",
   "execution_count": 28,
   "metadata": {},
   "outputs": [],
   "source": [
    "# Function to scrape all the data I need for one page\n",
    "def get_all_games(containers): # Only for this first page, i need to change the primary url to the second page and so on... \n",
    "    titles = containers.css('.text-nowrap a::text').getall()\n",
    "    link = containers.css('.text-nowrap a::attr(href)').getall()\n",
    "\n",
    "    return {\n",
    "        'title': titles,\n",
    "        'link': link,\n",
    "    }"
   ]
  },
  {
   "cell_type": "code",
   "execution_count": 29,
   "metadata": {},
   "outputs": [],
   "source": [
    "# Creates an empty dataframe that I can add scraped data to\n",
    "all_games = []\n",
    "all_games = pd.DataFrame(all_games)"
   ]
  },
  {
   "cell_type": "code",
   "execution_count": 30,
   "metadata": {},
   "outputs": [
    {
     "name": "stdout",
     "output_type": "stream",
     "text": [
      "No 'Next' button found. Exiting loop.\n"
     ]
    }
   ],
   "source": [
    "# Runs the code while the 'Next' button is present, when there is a next button, it will click it and scrape the data on the page\n",
    "\n",
    "while True:\n",
    "    try:\n",
    "        sel = Selector(text=driver.page_source)\n",
    "        containers = sel.css('tbody tr')\n",
    "        games_to_add = [get_all_games(containers) for containers in sel.css('tbody tr')]\n",
    "        games_to_add = pd.DataFrame(games_to_add)\n",
    "        all_games = pd.concat([all_games, games_to_add], axis=0)\n",
    "        driver.execute_script(\"window.scrollTo(0, document.body.scrollHeight);\")\n",
    "        next_button = driver.find_element('xpath', '//p//a[contains(text(), \"Next\")]')\n",
    "        time.sleep(randint(2, 4))\n",
    "        next_button.click()\n",
    "\n",
    "    except:\n",
    "        print(\"No 'Next' button found. Exiting loop.\")\n",
    "        break"
   ]
  },
  {
   "cell_type": "code",
   "execution_count": 31,
   "metadata": {},
   "outputs": [],
   "source": [
    "# Adds all_games to a csv file\n",
    "all_games.to_csv(\"../data/raw data/all_games.csv\", index=False)"
   ]
  }
 ],
 "metadata": {
  "kernelspec": {
   "display_name": ".venv",
   "language": "python",
   "name": "python3"
  },
  "language_info": {
   "codemirror_mode": {
    "name": "ipython",
    "version": 3
   },
   "file_extension": ".py",
   "mimetype": "text/x-python",
   "name": "python",
   "nbconvert_exporter": "python",
   "pygments_lexer": "ipython3",
   "version": "3.9.6"
  }
 },
 "nbformat": 4,
 "nbformat_minor": 2
}
