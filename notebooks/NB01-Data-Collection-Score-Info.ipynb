{
 "cells": [
  {
   "cell_type": "code",
   "execution_count": 1,
   "metadata": {},
   "outputs": [
    {
     "name": "stderr",
     "output_type": "stream",
     "text": [
      "/Users/nicolas/me204-2024-project-ntelloyoung/me204-2024-project-ntelloyoung/.venv/lib/python3.9/site-packages/urllib3/__init__.py:35: NotOpenSSLWarning: urllib3 v2 only supports OpenSSL 1.1.1+, currently the 'ssl' module is compiled with 'LibreSSL 2.8.3'. See: https://github.com/urllib3/urllib3/issues/3020\n",
      "  warnings.warn(\n"
     ]
    }
   ],
   "source": [
    "from scrapy import Selector\n",
    "\n",
    "import requests\n",
    "\n",
    "from scrapy import Selector\n",
    "\n",
    "import pandas as pd\n",
    "\n",
    "from tqdm.notebook import tqdm\n",
    "tqdm.pandas()"
   ]
  },
  {
   "cell_type": "code",
   "execution_count": 2,
   "metadata": {},
   "outputs": [],
   "source": [
    "# Loads dataframe which contains all games\n",
    "all_games = pd.read_csv('../data/raw data/all_games.csv')"
   ]
  },
  {
   "cell_type": "code",
   "execution_count": 3,
   "metadata": {},
   "outputs": [],
   "source": [
    "# Remove the ', [, and ] characters from the 'link' column in 'all_games.csv' so that scrapy can access the links\n",
    "all_games['link'] = all_games['link'].str.replace('[', '')\n",
    "all_games['link'] = all_games['link'].str.replace(']', '')\n",
    "all_games['link'] = all_games['link'].str.replace(\"'\", '')"
   ]
  },
  {
   "cell_type": "code",
   "execution_count": 4,
   "metadata": {},
   "outputs": [],
   "source": [
    "# Function to scrape the score information of a game\n",
    "def get_score_info(link):\n",
    "    response = requests.get(link)\n",
    "\n",
    "    sel = Selector(text = response.text)\n",
    "\n",
    "    containers = sel.css('div.info-score')\n",
    "\n",
    "    game_title = Selector(text = response.text).css('div.mb h1::text').get() \n",
    "\n",
    "    moby_score = containers.css('.mobyscore::text').get()\n",
    "\n",
    "    critics_score = containers.css('dl dd:nth-child(4)::text').get()\n",
    "\n",
    "    player_score = containers.css('.stars-sm::attr(data-tooltip)').get()\n",
    "\n",
    "    if 'Xbox' in containers.css('#platformRankings a::text').getall(): # Sometimes the Xbox score is not available, this if loop sets the value to 'N/A' if it is not available\n",
    "        key = containers.css('#platformRankings a::text').getall()\n",
    "\n",
    "        values = containers.css('#platformRankings span::text').getall()\n",
    "\n",
    "        ranking = dict(zip(key, values))\n",
    "\n",
    "    else:\n",
    "        ranking = {'Xbox': 'N/A'}\n",
    "\n",
    "\n",
    "    \n",
    "    return{\n",
    "            'title': game_title,\n",
    "            'moby_score': moby_score,\n",
    "            'critics_score': critics_score,\n",
    "            'player_score': player_score,\n",
    "            'xbox_score': ranking['Xbox']   \n",
    "        }"
   ]
  },
  {
   "cell_type": "code",
   "execution_count": 5,
   "metadata": {},
   "outputs": [
    {
     "data": {
      "application/vnd.jupyter.widget-view+json": {
       "model_id": "1c9d2243607443b5a64e1ebf5da10a5f",
       "version_major": 2,
       "version_minor": 0
      },
      "text/plain": [
       "  0%|          | 0/1017 [00:00<?, ?it/s]"
      ]
     },
     "metadata": {},
     "output_type": "display_data"
    }
   ],
   "source": [
    "# Applies the function to all the games in the dataframe\n",
    "score_dict = all_games['link'].progress_apply(get_score_info)"
   ]
  },
  {
   "cell_type": "code",
   "execution_count": 6,
   "metadata": {},
   "outputs": [],
   "source": [
    "# Turn score_dict into a dataframe\n",
    "score = pd.DataFrame(score_dict.tolist())"
   ]
  },
  {
   "cell_type": "code",
   "execution_count": 7,
   "metadata": {},
   "outputs": [],
   "source": [
    "# Save the dataframe to a csv file\n",
    "score.to_csv('../data/raw data/score_info.csv', index = False)"
   ]
  }
 ],
 "metadata": {
  "kernelspec": {
   "display_name": ".venv",
   "language": "python",
   "name": "python3"
  },
  "language_info": {
   "codemirror_mode": {
    "name": "ipython",
    "version": 3
   },
   "file_extension": ".py",
   "mimetype": "text/x-python",
   "name": "python",
   "nbconvert_exporter": "python",
   "pygments_lexer": "ipython3",
   "version": "3.9.6"
  }
 },
 "nbformat": 4,
 "nbformat_minor": 2
}
