{
 "cells": [
  {
   "cell_type": "code",
   "execution_count": 1,
   "metadata": {},
   "outputs": [
    {
     "name": "stderr",
     "output_type": "stream",
     "text": [
      "/Users/nicolas/me204-2024-project-ntelloyoung/me204-2024-project-ntelloyoung/.venv/lib/python3.9/site-packages/urllib3/__init__.py:35: NotOpenSSLWarning: urllib3 v2 only supports OpenSSL 1.1.1+, currently the 'ssl' module is compiled with 'LibreSSL 2.8.3'. See: https://github.com/urllib3/urllib3/issues/3020\n",
      "  warnings.warn(\n"
     ]
    }
   ],
   "source": [
    "from scrapy import Selector\n",
    "\n",
    "import requests\n",
    "\n",
    "import pandas as pd\n",
    "\n",
    "from tqdm.notebook import tqdm, trange\n",
    "tqdm.pandas()"
   ]
  },
  {
   "cell_type": "code",
   "execution_count": 2,
   "metadata": {},
   "outputs": [],
   "source": [
    "# Loads dataframe which contains all games\n",
    "all_games = pd.read_csv('../data/raw data/all_games.csv')"
   ]
  },
  {
   "cell_type": "code",
   "execution_count": 3,
   "metadata": {},
   "outputs": [],
   "source": [
    "# Remove the ', [, and ] characters from the 'link' column in 'all_games.csv' so that scrapy can access the links\n",
    "all_games['link'] = all_games['link'].str.replace('[', '')\n",
    "all_games['link'] = all_games['link'].str.replace(']', '')\n",
    "all_games['link'] = all_games['link'].str.replace(\"'\", '')"
   ]
  },
  {
   "cell_type": "code",
   "execution_count": 4,
   "metadata": {},
   "outputs": [],
   "source": [
    "# Function to scrape the release information of a game\n",
    "def get_release_info(link):\n",
    "\n",
    "    response = requests.get(link)\n",
    "\n",
    "    sel = Selector(text = response.text)\n",
    "\n",
    "    containers = sel.css('div.info-release')\n",
    "\n",
    "    title = Selector(text = response.text).css('div.mb h1::text').get() \n",
    "    \n",
    "    credits = containers.css('dd:nth-child(4) a::text').get()\n",
    "\n",
    "    release_date = containers.css('a#txbox::text').get()\n",
    "\n",
    "    publishers = containers.css('ul#publisherLinks a::text').getall()\n",
    "\n",
    "    developers = containers.css('ul#developerLinks a::text').getall()\n",
    "\n",
    "    return {\n",
    "        'title': title,\n",
    "        'credits': credits,\n",
    "        'xbox_release_date': release_date,\n",
    "        'publishers': publishers,\n",
    "        'developers': developers,\n",
    "    }"
   ]
  },
  {
   "cell_type": "code",
   "execution_count": 5,
   "metadata": {},
   "outputs": [
    {
     "data": {
      "application/vnd.jupyter.widget-view+json": {
       "model_id": "9e82147e372142b49702bbae9e0ca3f0",
       "version_major": 2,
       "version_minor": 0
      },
      "text/plain": [
       "  0%|          | 0/1017 [00:00<?, ?it/s]"
      ]
     },
     "metadata": {},
     "output_type": "display_data"
    }
   ],
   "source": [
    "# Applies the function to all the games in the dataframe\n",
    "release_info_dict = all_games['link'].progress_apply(get_release_info)"
   ]
  },
  {
   "cell_type": "code",
   "execution_count": 6,
   "metadata": {},
   "outputs": [],
   "source": [
    "# Turn the dict into a dataframe\n",
    "release_info = pd.DataFrame(release_info_dict.tolist())"
   ]
  },
  {
   "cell_type": "code",
   "execution_count": 7,
   "metadata": {},
   "outputs": [],
   "source": [
    "# Save the dataframe\n",
    "release_info.to_csv(\"../data/raw data/release_info.csv\", index=False)"
   ]
  }
 ],
 "metadata": {
  "kernelspec": {
   "display_name": ".venv",
   "language": "python",
   "name": "python3"
  },
  "language_info": {
   "codemirror_mode": {
    "name": "ipython",
    "version": 3
   },
   "file_extension": ".py",
   "mimetype": "text/x-python",
   "name": "python",
   "nbconvert_exporter": "python",
   "pygments_lexer": "ipython3",
   "version": "3.9.6"
  }
 },
 "nbformat": 4,
 "nbformat_minor": 2
}
